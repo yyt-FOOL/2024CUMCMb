{
 "cells": [
  {
   "cell_type": "code",
   "execution_count": 3,
   "metadata": {},
   "outputs": [],
   "source": [
    "import numpy as np"
   ]
  },
  {
   "cell_type": "code",
   "execution_count": 4,
   "metadata": {},
   "outputs": [],
   "source": [
    "def calculate_profit(decision,P_init,n0):\n",
    "    #decision=[x1,x2,x3,y,z,gamma,eta]\n",
    "    #半成品1和半成品2的工续完全一样，考虑为一种情况，减少决策变量\n",
    "    #储存决策变量(xi:是否检测第i件零件;yi:是否检测第i件半成品;zi:是否拆解第i件不合格的半成品;gamma:是否检测成品;eta:是否拆解不合格成品)\n",
    "    C=[1,1,2]#储存各零件的检测成本\n",
    "    P_semi_product=0.1\n",
    "    P_product=0.1\n",
    "    C_assemble_semi_product=8\n",
    "    C_test_semi_product=4\n",
    "    C_disassemble_semi_product=6\n",
    "    C_assemble_product=8\n",
    "    C_test_product=6\n",
    "    C_disassemble_product=10\n",
    "    C_market=200\n",
    "    C_lose=40\n",
    "    #阶段1:检测零件\n",
    "    P_upgrade=[(1-decision[i])*P_init[i] for i in range(len(P_init))]\n",
    "    C_test_part_total=sum([decision[i]*n0*C[i] for i in range(3)])\n",
    "    #阶段2:装配半成品\n",
    "    n_semi_product1=min((1-decision[0]*P_init[0])*n0,(1-decision[1]*P_init[1])*n0,(1-decision[2]*P_init[2])*n0)\n",
    "    C_assemble_semi_product_total=C_assemble_semi_product*n_semi_product1\n",
    "    #阶段3:是否检测半成品\n",
    "    C_test_semi_product_total=decision[3]*n_semi_product1*C_test_semi_product\n",
    "    #未检测前半成品的总次品率\n",
    "    P_semi_product1_total=(1-P_upgrade[0])*(1-P_upgrade[1])*(1-P_upgrade[2])*P_semi_product+P_upgrade[0]+P_upgrade[1]+P_upgrade[2]-P_upgrade[0]*P_upgrade[1]-P_upgrade[1]*P_upgrade[2]-P_upgrade[0]*P_upgrade[2]+P_upgrade[0]*P_upgrade[1]*P_upgrade[2]\n",
    "    #更新半成品总次品率，以便计算成品的总次品率\n",
    "    P_semi_product1_total_upgrade=(1-decision[3])*P_semi_product1_total\n",
    "    #阶段4:是否拆解不合格半成品\n",
    "    C_disassemble_semi_product_total=(decision[4]*n_semi_product1*P_semi_product1_total)*C_disassemble_semi_product\n",
    "    #阶段5:装配成品\n",
    "    #可装配的成品数量\n",
    "    n=np.floor(1-decision[3]*P_semi_product1_total)*n_semi_product1\n",
    "    C_assemble_product_total=n*C_assemble_product\n",
    "    #阶段6:是否检测成品\n",
    "    P_product_total=(1-P_semi_product1_total_upgrade)*(1-P_semi_product1_total_upgrade)*(1-P_semi_product1_total_upgrade)*P_product+P_semi_product1_total_upgrade+P_semi_product1_total_upgrade+P_semi_product1_total_upgrade-P_semi_product1_total_upgrade*P_semi_product1_total_upgrade-P_semi_product1_total_upgrade*P_semi_product1_total_upgrade-P_semi_product1_total_upgrade*P_semi_product1_total_upgrade+P_semi_product1_total_upgrade*P_semi_product1_total_upgrade*P_semi_product1_total_upgrade\n",
    "    C_test_product_total=decision[5]*n*C_test_product\n",
    "    #阶段7:销售\n",
    "    Sale=n*(1-P_product_total)*C_market\n",
    "    C_lose_total=(1-decision[5])*C_lose*n*P_product_total\n",
    "    #阶段8:是否拆解不合格成品\n",
    "    C_disassemble_product_total=decision[6]*P_product_total*n*C_disassemble_product\n",
    "    #最终的目标函数\n",
    "    profit=Sale-C_lose_total-(C_test_part_total-C_assemble_semi_product_total-C_disassemble_semi_product_total-C_assemble_product_total-C_test_product_total-C_disassemble_product_total)*3+C[0]*n0*decision[0]\n",
    "    n_upgrade=np.floor(decision[4]*n_semi_product1*P_semi_product1_total)\n",
    "    return profit,P_upgrade,n_upgrade"
   ]
  },
  {
   "cell_type": "code",
   "execution_count": 5,
   "metadata": {},
   "outputs": [],
   "source": [
    "decision=[]\n",
    "for x1 in [0,1]:\n",
    "    for x2 in [0,1]:\n",
    "        for x3 in [0,1]:\n",
    "            for y in [0,1]:\n",
    "                for z in [0,1]:\n",
    "                    for gamma in [0,1]:\n",
    "                        for eta in [0,1]:\n",
    "                            decision.append([x1,x2,x3,y,z,gamma,eta])"
   ]
  },
  {
   "cell_type": "code",
   "execution_count": 6,
   "metadata": {},
   "outputs": [],
   "source": [
    "result=[]\n",
    "for i in decision:\n",
    "    P_init=[0.1 for i in range(3)]\n",
    "    n0=10000\n",
    "    profit,P_upgrade,n_upgrade=calculate_profit(i,P_init,n0)\n",
    "    result.append([i,profit,P_upgrade,n_upgrade])"
   ]
  },
  {
   "cell_type": "code",
   "execution_count": 7,
   "metadata": {},
   "outputs": [],
   "source": [
    "non_zero_index=[]\n",
    "for i in range(2**7):\n",
    "    if (result[i][3]!=0)&(result[i][1]>0):\n",
    "        non_zero_index.append(i)"
   ]
  },
  {
   "cell_type": "code",
   "execution_count": 8,
   "metadata": {},
   "outputs": [],
   "source": [
    "result1=np.empty((2**7,2**7), dtype=object)\n",
    "for i in non_zero_index:\n",
    "    for j in range(2**7):\n",
    "        profit,P_upgrade,n_upgrade=calculate_profit(decision[j],result[i][2],result[i][3])\n",
    "        result1[i,j]=[decision[j],profit,P_upgrade,n_upgrade]"
   ]
  },
  {
   "cell_type": "code",
   "execution_count": 9,
   "metadata": {},
   "outputs": [],
   "source": [
    "non_zero_index1=[]\n",
    "for i in non_zero_index:\n",
    "    for j in range(2**7):\n",
    "        if (result1[i][j][3]!=0)&(result1[i][j][1]>0):\n",
    "            non_zero_index1.append([i,j])"
   ]
  },
  {
   "cell_type": "code",
   "execution_count": 10,
   "metadata": {},
   "outputs": [],
   "source": [
    "result2=np.empty((2**7,2**7,2**7), dtype=object)\n",
    "for i in non_zero_index1:\n",
    "    for j in range(2**7):\n",
    "        profit,P_upgrade,n_upgrade=calculate_profit(decision[j],result1[i[0]][i[1]][2],result1[i[0]][i[1]][3])\n",
    "        result2[i[0],i[1],j]=[decision[j],profit,P_upgrade,n_upgrade]"
   ]
  },
  {
   "cell_type": "code",
   "execution_count": 11,
   "metadata": {},
   "outputs": [],
   "source": [
    "result2_value=np.zeros((2**7,2**7,2**7))\n",
    "for i in non_zero_index1:\n",
    "    for j in range(2**7):\n",
    "        result2_value[i[0]][i[0]][j]=result2[i[0]][i[0]][j][1]\n",
    "result2_value_max=np.max(result2_value,axis=2)"
   ]
  },
  {
   "cell_type": "code",
   "execution_count": 12,
   "metadata": {},
   "outputs": [],
   "source": [
    "result1_value=np.zeros((2**7,2**7))\n",
    "for i in non_zero_index:\n",
    "    for j in range(2**7):\n",
    "        result1_value[i,j]=result1[i,j][1]\n",
    "        result1_value[i,j]=result1[i,j][1]+result2_value_max[i,j]\n",
    "result1_value_max=np.max(result1_value,axis=1)"
   ]
  },
  {
   "cell_type": "code",
   "execution_count": 13,
   "metadata": {},
   "outputs": [
    {
     "name": "stdout",
     "output_type": "stream",
     "text": [
      "7\n",
      "2163747.091137528\n",
      "第一阶段的决策为:\n",
      "[[0, 0, 0, 0, 1, 1, 1], 1454019.1908159298, [0.1, 0.1, 0.1], 3439.0]\n"
     ]
    }
   ],
   "source": [
    "result_value=np.zeros(2**7)\n",
    "for i in range(2**7):\n",
    "    result_value[i]=result[i][1]\n",
    "    result_value[i]=result_value[i]+result1_value_max[i]\n",
    "max_index = np.argmax(result_value)\n",
    "max_value = result_value[max_index]\n",
    "print(max_index)\n",
    "print(max_value)\n",
    "print(\"第一阶段的决策为:\")\n",
    "print(result[max_index])"
   ]
  },
  {
   "cell_type": "code",
   "execution_count": 14,
   "metadata": {},
   "outputs": [
    {
     "name": "stdout",
     "output_type": "stream",
     "text": [
      "7\n",
      "第二阶段的决策为:\n",
      "[[0, 0, 0, 0, 1, 1, 1], 500037.19972159824, [0.1, 0.1, 0.1], 1182.0]\n"
     ]
    }
   ],
   "source": [
    "max_index1= np.argmax(result1_value[max_index])\n",
    "print(max_index1)\n",
    "print(\"第二阶段的决策为:\")\n",
    "print(result1[max_index][max_index1])"
   ]
  },
  {
   "cell_type": "code",
   "execution_count": 15,
   "metadata": {},
   "outputs": [
    {
     "name": "stdout",
     "output_type": "stream",
     "text": [
      "119\n",
      "第三阶段的决策为:\n",
      "[[1, 1, 1, 0, 1, 1, 1], 209690.70059999998, [0.0, 0.0, 0.0], 106.0]\n"
     ]
    }
   ],
   "source": [
    "max_index2= np.argmax(result2_value[max_index][max_index1])\n",
    "print(max_index2)\n",
    "print(\"第三阶段的决策为:\")\n",
    "print(result2[max_index][max_index1][max_index2])"
   ]
  }
 ],
 "metadata": {
  "kernelspec": {
   "display_name": "Python 3",
   "language": "python",
   "name": "python3"
  },
  "language_info": {
   "codemirror_mode": {
    "name": "ipython",
    "version": 3
   },
   "file_extension": ".py",
   "mimetype": "text/x-python",
   "name": "python",
   "nbconvert_exporter": "python",
   "pygments_lexer": "ipython3",
   "version": "3.10.9"
  }
 },
 "nbformat": 4,
 "nbformat_minor": 2
}
