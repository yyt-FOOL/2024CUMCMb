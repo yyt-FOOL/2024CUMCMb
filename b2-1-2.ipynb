{
 "cells": [
  {
   "cell_type": "code",
   "execution_count": 1,
   "metadata": {},
   "outputs": [],
   "source": [
    "import numpy as np"
   ]
  },
  {
   "cell_type": "code",
   "execution_count": 2,
   "metadata": {},
   "outputs": [],
   "source": [
    "def calculate_profit(x1,x2,y,z,n0,p1,p2,p_product):\n",
    "    #参数说明\n",
    "    #n:零件1的数量/零件2的数量\n",
    "    #p1:零件1的次品率\n",
    "    #p2:零件2的次品率\n",
    "    #p_product:成品的次品率\n",
    "    #一些内置的参数\n",
    "    C1=2#检测零件1的成本\n",
    "    C2=3#检测零件2的成本\n",
    "    C_market=56#单件成品的市场售价\n",
    "    C_assemble=6#装配单件成品的费用\n",
    "    C_test_product=3#检测单件成品所需的费用\n",
    "    C_lose=6#调换一件产品引起的损失\n",
    "    C_disassemble=5#拆解一件产品所需的费用\n",
    "    #更新次品率\n",
    "    p1_update=(1-x1)*p1\n",
    "    p2_update=(1-x2)*p2\n",
    "    #成品的总次品率\n",
    "    P=(1-p1_update)*(1-p2_update)*p_product+p1_update+p2_update-p1_update*p2_update\n",
    "    n=np.floor(min((1-x1*p1)*n0,(1-x2*p2)*n0))\n",
    "    profit=C_market*(1-P)*n-x1*C1*n0-x2*C2*n0-C_assemble*n-y*C_test_product*n-(1-y)*C_lose*n*P-z*C_disassemble*n*P\n",
    "    #更新零件数\n",
    "    if z==0:\n",
    "        n_update=0\n",
    "    elif z==1:\n",
    "        n_update=np.floor(n*P)\n",
    "    return profit,n_update,p1_update,p2_update,n_update"
   ]
  },
  {
   "cell_type": "code",
   "execution_count": 3,
   "metadata": {},
   "outputs": [],
   "source": [
    "n0=10000\n",
    "p1=0.1\n",
    "p2=0.1\n",
    "p_product=0.1\n",
    "#第一阶段的生产决策\n",
    "result=[]\n",
    "for x1 in [0,1]:\n",
    "    for x2 in [0,1]:\n",
    "        for y in [0,1]:\n",
    "            for z in [0,1]:\n",
    "                profit,n_update,p1_update,p2_update,n_update=calculate_profit(x1,x2,y,z,n0,p1,p2,p_product)\n",
    "                result.append([x1,x2,y,z,profit,n_update,p1_update,p2_update,n_update])\n",
    "#第二阶段的决策\n",
    "result1=np.empty((8, 16), dtype=object)\n",
    "for i in range(1,16,2):\n",
    "    count=0\n",
    "    for x1 in [0,1]:\n",
    "        for x2 in [0,1]:\n",
    "            for y in [0,1]:\n",
    "                for z in [0,1]:\n",
    "                    profit,n_update,p1_update,p2_update,n_update=calculate_profit(x1,x2,y,z,result[i][5],result[i][6],result[i][7],p_product)\n",
    "                    result1[int((i-1)/2),count]=[x1,x2,y,z,profit,n_update,p1_update,p2_update,n_update]\n",
    "                    count+=1\n",
    "#第三阶段决策\n",
    "result2=np.empty((8,8,16), dtype=object)\n",
    "for i in range(8):\n",
    "    for j in range(1,16,2):\n",
    "        count=0\n",
    "        for x1 in [0,1]:\n",
    "            for x2 in [0,1]:\n",
    "                for y in [0,1]:\n",
    "                    for z in [0,1]:\n",
    "                        profit,n_update,p1_update,p2_update,n_update=calculate_profit(x1,x2,y,z,result1[i,j][5],result1[i,j][6],result1[i,j][7],p_product)\n",
    "                        result2[i,int((j-1)/2),count]=[x1,x2,y,z,profit,n_update,p1_update,p2_update,n_update]\n",
    "                        count+=1\n",
    "\n",
    "#第四阶段决策\n",
    "result3=np.empty((8,8,8,16), dtype=object)\n",
    "for i in range(8):\n",
    "    for j in range(8):\n",
    "        for k in range(1,16,2):\n",
    "            count=0\n",
    "            for x1 in [0,1]:\n",
    "                for x2 in [0,1]:\n",
    "                    for y in [0,1]:\n",
    "                        for z in [0,1]:\n",
    "                            profit,n_update,p1_update,p2_update,n_update=calculate_profit(x1,x2,y,z,result1[i,j][5],result1[i,j][6],result1[i,j][7],p_product)\n",
    "                            result3[i,j,int((k-1)/2),count]=[x1,x2,y,z,profit,n_update,p1_update,p2_update,n_update]\n",
    "                            count+=1"
   ]
  },
  {
   "cell_type": "code",
   "execution_count": 4,
   "metadata": {},
   "outputs": [],
   "source": [
    "result3_value=np.zeros((8,8,8,16))\n",
    "for i in range(8):\n",
    "    for j in range(8):\n",
    "        for k in range(8):\n",
    "            for g in range(16):\n",
    "                result3_value[i,j,k,g]=result3[i,j,k,g][4]\n",
    "result3_value_max=np.max(result3_value,axis=3)"
   ]
  },
  {
   "cell_type": "code",
   "execution_count": 5,
   "metadata": {},
   "outputs": [],
   "source": [
    "result2_value=np.zeros((8,8,16))\n",
    "for i in range(8):\n",
    "    for j in range(8):\n",
    "        for k in range(16):\n",
    "            result2_value[i,j,k]=result2[i,j,k][4]\n",
    "result2_value[:,:,1::2]=result2_value[:,:,1::2]+result3_value_max\n",
    "result2_value_max=np.max(result2_value,axis=2)"
   ]
  },
  {
   "cell_type": "code",
   "execution_count": 6,
   "metadata": {},
   "outputs": [],
   "source": [
    "result1_value=np.zeros((8,16))\n",
    "for i in range(8):\n",
    "    for j in range(16):\n",
    "        result1_value[i,j]=result1[i,j][4]\n",
    "result1_value[:,1::2]=result1_value[:,1::2]+result2_value_max\n",
    "result1_value_max=np.max(result1_value,axis=1)"
   ]
  },
  {
   "cell_type": "code",
   "execution_count": 7,
   "metadata": {},
   "outputs": [
    {
     "name": "stdout",
     "output_type": "stream",
     "text": [
      "最终的最大利润为451146.99\n",
      "第一阶段的生产决策为:\n",
      "[0, 0, 0, 1, 318430.0, 2710.0, 0.1, 0.1, 2710.0]\n",
      "第二阶段的生产决策为:\n",
      "[0, 0, 1, 1, 82570.98999999999, 734.0, 0.1, 0.1, 734.0]\n",
      "第三阶段的生产决策为:\n",
      "[1, 1, 0, 1, 24908.0, 66.0, 0.0, 0.0, 66.0]\n",
      "第四阶段的生产决策为:\n",
      "[1, 1, 0, 0, 25238.0, 0, 0.0, 0.0, 0]\n"
     ]
    }
   ],
   "source": [
    "final_result=[0 for i in range(16)]\n",
    "for i in range(16):\n",
    "    final_result[i]=result[i][4]\n",
    "final_result[1::2]=final_result[1::2]+result1_value_max\n",
    "max_value=max(final_result)\n",
    "max_index = final_result.index(max_value)\n",
    "print(f\"最终的最大利润为{max_value}\")\n",
    "print(\"第一阶段的生产决策为:\")\n",
    "print(result[max_index])\n",
    "if max_index%2:\n",
    "    max_index_1 = np.argmax(result1_value[int((max_index-1)/2)])\n",
    "    print(\"第二阶段的生产决策为:\")\n",
    "    print(result1[int((max_index-1)/2),max_index_1])\n",
    "if max_index_1%2:\n",
    "    max_index_2 = np.argmax(result2_value[int((max_index-1)/2),int((max_index_1-1)/2)])\n",
    "    print(\"第三阶段的生产决策为:\")\n",
    "    print(result2[int((max_index-1)/2),int((max_index_1-1)/2),max_index_2])\n",
    "if max_index_2%2:\n",
    "    max_index_3 = np.argmax(result3_value[int((max_index-1)/2),int((max_index_1-1)/2),int((max_index_2-1)/2)])\n",
    "    print(\"第四阶段的生产决策为:\")\n",
    "    print(result3[int((max_index-1)/2),int((max_index_1-1)/2),int((max_index_2-1)/2),max_index_3])"
   ]
  }
 ],
 "metadata": {
  "kernelspec": {
   "display_name": "Python 3",
   "language": "python",
   "name": "python3"
  },
  "language_info": {
   "codemirror_mode": {
    "name": "ipython",
    "version": 3
   },
   "file_extension": ".py",
   "mimetype": "text/x-python",
   "name": "python",
   "nbconvert_exporter": "python",
   "pygments_lexer": "ipython3",
   "version": "3.10.9"
  }
 },
 "nbformat": 4,
 "nbformat_minor": 2
}
