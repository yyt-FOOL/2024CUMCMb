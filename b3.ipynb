{
 "cells": [
  {
   "cell_type": "code",
   "execution_count": 5,
   "metadata": {},
   "outputs": [],
   "source": [
    "import numpy as np"
   ]
  },
  {
   "cell_type": "code",
   "execution_count": 6,
   "metadata": {},
   "outputs": [],
   "source": [
    "def calculate_profit(decision,P_init,N):\n",
    "    #decision=[x1,x2,x3,x4,x5,x6,x7,x8,y1,y2,y3,z1,z2,z3,gamma,eta]\n",
    "    #储存决策变量(xi:是否检测第i件零件;yi:是否检测第i件半成品;zi:是否拆解第i件不合格的半成品;gamma:是否检测成品;eta:是否拆解不合格成品)\n",
    "    C=[1,1,2,1,1,2,1,2]#储存各零件的检测成本\n",
    "    P_semi_product=0.1\n",
    "    P_product=0.1\n",
    "    C_assemble_semi_product=8\n",
    "    C_test_semi_product=4\n",
    "    C_disassemble_semi_product=6\n",
    "    C_assemble_product=8\n",
    "    C_test_product=6\n",
    "    C_disassemble_product=10\n",
    "    C_market=200\n",
    "    C_lose=40\n",
    "    #阶段1:检测零件\n",
    "    P_upgrade=[(1-decision[i])*P_init[i] for i in range(len(P_init))]\n",
    "    C_test_part_total=sum([decision[i]*N[i]*C[i] for i in range(8)])\n",
    "    #阶段2:装配半成品\n",
    "    n_semi_product1=min((1-decision[0]*P_init[0])*N[0],(1-decision[1]*P_init[1])*N[1],(1-decision[2]*P_init[2])*N[2])\n",
    "    n_semi_product2=min((1-decision[3]*P_init[3])*N[3],(1-decision[4]*P_init[4])*N[4],(1-decision[5]*P_init[5])*N[5])\n",
    "    n_semi_product3=min((1-decision[6]*P_init[6])*N[6],(1-decision[7]*P_init[7])*N[7])\n",
    "    C_assemble_semi_product_total=C_assemble_semi_product*(n_semi_product1+n_semi_product2+n_semi_product3)\n",
    "    #阶段3:是否检测半成品\n",
    "    C_test_semi_product_total=(decision[8]*n_semi_product1+decision[9]*n_semi_product2+decision[10]*n_semi_product3)*C_test_semi_product\n",
    "    #未检测前半成品的总次品率\n",
    "    P_semi_product1_total=(1-P_upgrade[0])*(1-P_upgrade[1])*(1-P_upgrade[2])*P_semi_product+P_upgrade[0]+P_upgrade[1]+P_upgrade[2]-P_upgrade[0]*P_upgrade[1]-P_upgrade[1]*P_upgrade[2]-P_upgrade[0]*P_upgrade[2]+P_upgrade[0]*P_upgrade[1]*P_upgrade[2]\n",
    "    P_semi_product2_total=(1-P_upgrade[3])*(1-P_upgrade[4])*(1-P_upgrade[5])*P_semi_product+P_upgrade[3]+P_upgrade[4]+P_upgrade[5]-P_upgrade[3]*P_upgrade[4]-P_upgrade[4]*P_upgrade[5]-P_upgrade[3]*P_upgrade[5]+P_upgrade[3]*P_upgrade[4]*P_upgrade[5]\n",
    "    P_semi_product3_total=(1-P_upgrade[6])*(1-P_upgrade[7])*P_semi_product+P_upgrade[6]+P_upgrade[7]-P_upgrade[6]*P_upgrade[7]\n",
    "    #更新半成品总次品率，以便计算成品的总次品率\n",
    "    P_semi_product1_total_upgrade=(1-decision[8])*P_semi_product1_total\n",
    "    P_semi_product2_total_upgrade=(1-decision[9])*P_semi_product2_total\n",
    "    P_semi_product3_total_upgrade=(1-decision[10])*P_semi_product3_total\n",
    "    #阶段4:是否拆解不合格半成品\n",
    "    C_disassemble_semi_product_total=(decision[11]*n_semi_product1*P_semi_product1_total+decision[12]*n_semi_product2*P_semi_product2_total+decision[13]*n_semi_product3*P_semi_product3_total)*C_disassemble_semi_product\n",
    "    #阶段5:装配成品\n",
    "    #可装配的成品数量\n",
    "    n=min((1-decision[8]*P_semi_product1_total)*n_semi_product1,(1-decision[9]*P_semi_product2_total)*n_semi_product2,(1-decision[10]*P_semi_product3_total)*n_semi_product3)\n",
    "    C_assemble_product_total=n*C_assemble_product\n",
    "    #阶段6:是否检测成品\n",
    "    P_product_total=(1-P_semi_product1_total_upgrade)*(1-P_semi_product2_total_upgrade)*(1-P_semi_product3_total_upgrade)*P_product+P_semi_product1_total_upgrade+P_semi_product2_total_upgrade+P_semi_product3_total_upgrade-P_semi_product1_total_upgrade*P_semi_product2_total_upgrade-P_semi_product2_total_upgrade*P_semi_product3_total_upgrade-P_semi_product1_total_upgrade*P_semi_product3_total_upgrade+P_semi_product1_total_upgrade*P_semi_product2_total_upgrade*P_semi_product3_total_upgrade\n",
    "    C_test_product_total=decision[14]*n*C_test_product\n",
    "    #阶段7:销售\n",
    "    Sale=n*(1-P_product_total)*C_market\n",
    "    C_lose_total=(1-decision[14])*C_lose*n*P_product_total\n",
    "    #阶段8:是否拆解不合格成品\n",
    "    C_disassemble_product_total=decision[15]*P_product_total*n*C_disassemble_product\n",
    "    profit=Sale-C_test_part_total-C_assemble_semi_product_total-C_disassemble_semi_product_total-C_assemble_product_total-C_test_product_total-C_lose_total-C_disassemble_product_total\n",
    "    N=[]\n",
    "    N.extend([decision[11]*n_semi_product1*P_semi_product1_total+decision[15]*P_product_total*n]*3)\n",
    "    N.extend([decision[12]*n_semi_product2*P_semi_product2_total+decision[15]*P_product_total*n]*3)\n",
    "    N.extend([decision[13]*n_semi_product3*P_semi_product3_total+decision[15]*P_product_total*n]*2)\n",
    "    return profit,P_upgrade,N\n",
    "    "
   ]
  },
  {
   "cell_type": "code",
   "execution_count": 7,
   "metadata": {},
   "outputs": [],
   "source": [
    "#第一阶段的生产决策\n",
    "decision=[]\n",
    "for x1 in [0,1]:\n",
    "    for x2 in [0,1]:\n",
    "        for x3 in [0,1]:\n",
    "            for x4 in[0,1]:\n",
    "                for x5 in [0,1]:\n",
    "                    for x6 in [0,1]:\n",
    "                        for x7 in [0,1]:\n",
    "                            for x8 in [0,1]:\n",
    "                                for y1 in [0,1]:\n",
    "                                    for y2 in [0,1]:\n",
    "                                        for y3 in [0,1]:\n",
    "                                            for z1 in [0,1]:\n",
    "                                                for z2 in [0,1]:\n",
    "                                                    for z3 in [0,1]:\n",
    "                                                        for gamma in [0,1]:\n",
    "                                                            for eta in [0,1]:\n",
    "                                                                decision.append([x1,x2,x3,x4,x5,x6,x7,x8,y1,y1,y3,z1,z2,z3,gamma,eta])\n"
   ]
  },
  {
   "cell_type": "code",
   "execution_count": 8,
   "metadata": {},
   "outputs": [],
   "source": [
    "result=[]\n",
    "for i in decision:\n",
    "    n0=10000\n",
    "    N=[n0 for i in range(8)]\n",
    "    P_init=[0.1 for i in range(8)]\n",
    "    profit,P,N=calculate_profit(i,P_init,N)\n",
    "    result.append([i,profit,P,N])"
   ]
  },
  {
   "cell_type": "code",
   "execution_count": 150,
   "metadata": {},
   "outputs": [],
   "source": [
    "result1=np.empty((2**16,2**16), dtype=object)\n",
    "count=0\n",
    "for i in range(2**16):\n",
    "    for j in range(2**16):\n",
    "        if (0 not in result[i][3])&(result[i][1]>0):\n",
    "            profit,P,N=calculate_profit(decision[j],result[i][2],result[i][3])\n",
    "            result1[i,j]=[decision[j],profit,P,N]\n",
    "        count+=1\n",
    "        print(count)"
   ]
  },
  {
   "cell_type": "code",
   "execution_count": null,
   "metadata": {},
   "outputs": [],
   "source": []
  }
 ],
 "metadata": {
  "kernelspec": {
   "display_name": "Python 3",
   "language": "python",
   "name": "python3"
  },
  "language_info": {
   "codemirror_mode": {
    "name": "ipython",
    "version": 3
   },
   "file_extension": ".py",
   "mimetype": "text/x-python",
   "name": "python",
   "nbconvert_exporter": "python",
   "pygments_lexer": "ipython3",
   "version": "3.10.9"
  }
 },
 "nbformat": 4,
 "nbformat_minor": 2
}
